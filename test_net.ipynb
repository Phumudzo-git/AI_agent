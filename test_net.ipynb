{
 "cells": [
  {
   "cell_type": "code",
   "execution_count": null,
   "metadata": {},
   "outputs": [],
   "source": [
    "import pickle as pickle\n",
    "import numpy as np\n",
    "model = pickle.load(open('model.pkl','rb'))\n",
    "#print(model)"
   ]
  },
  {
   "cell_type": "code",
   "execution_count": null,
   "metadata": {},
   "outputs": [],
   "source": [
    "def sgm(x):\n",
    "    y = 1.0/(1.0+np.exp(-x))\n",
    "    return(y)\n",
    "\n",
    "def dsgm(x):\n",
    "    return(x*(1-x))"
   ]
  },
  {
   "cell_type": "code",
   "execution_count": null,
   "metadata": {},
   "outputs": [],
   "source": [
    "def pre_process_images(input_observation, prev_processed_observation, input_dimensions):\n",
    "    \"\"\" Here we want to convert the image of 210x160x3 array into a 6400 float vector \"\"\"\n",
    "    processed_observation = input_observation[35:195] # crop\n",
    "    processed_observation = down_sample(processed_observation) # Downsample function below below\n",
    "    processed_observation = remove_color(processed_observation) # Remove color function implemented below\n",
    "    processed_observation = remove_background(processed_observation) # Remove background function implemented below\n",
    "    processed_observation[processed_observation != 0] = 1 # everything else (paddles, ball) just set to 1\n",
    "    \"\"\"Now we convert the 80X80 array (matrix) image into 1600X1 matrix\"\"\"\n",
    "    processed_observation = processed_observation.astype(np.float).ravel()\n",
    "\n",
    "    \"\"\"Here we process the difference in succesive frames. Subtract the previous image frame from the \n",
    "    current frame \"\"\"\n",
    "    if prev_processed_observation is not None:\n",
    "        input_observation = processed_observation - prev_processed_observation\n",
    "    else:\n",
    "        input_observation = np.zeros(input_dimensions)\n",
    "    \"\"\" Save the previous image frame \"\"\"\n",
    "    prev_processed_observations = processed_observation\n",
    "    return(input_observation, prev_processed_observation)\n",
    "\n",
    "def down_sample(image):\n",
    "    return image[::2, ::2, :]\n",
    "\n",
    "def remove_color(image):\n",
    "    return image[:, :, 0]\n",
    "\n",
    "def remove_background(image):\n",
    "    image[image == 144] = 0\n",
    "    image[image == 109] = 0\n",
    "    return image"
   ]
  },
  {
   "cell_type": "code",
   "execution_count": null,
   "metadata": {},
   "outputs": [],
   "source": [
    "def feed_forward_nets(model, image_matrix):\n",
    "    \"\"\" Computing the hidden layer values and the output layer values\"\"\"\n",
    "    hidden_layer = np.dot(model['layer_1']['weight'], image_matrix)+model['layer_1']['bias']\n",
    "    hidden_layer = sgm(hidden_layer)\n",
    "    output_layer = np.dot(hidden_layer, model['layer_2']['weight'])+model['layer_2']['bias']\n",
    "    output_layer = sgm(output_layer)\n",
    "    return(hidden_layer, output_layer)"
   ]
  },
  {
   "cell_type": "code",
   "execution_count": null,
   "metadata": {},
   "outputs": [],
   "source": [
    "def choose_action(probability):\n",
    "    random_value = np.random.uniform()\n",
    "    if random_value < probability:\n",
    "        return 2      # the AI agent will move up in the openai gym\n",
    "    else:\n",
    "        return 3      # The AI agent will move down in the openai gym"
   ]
  },
  {
   "cell_type": "code",
   "execution_count": null,
   "metadata": {},
   "outputs": [],
   "source": [
    "import gym\n",
    "env = gym.make(\"Pong-v0\")"
   ]
  },
  {
   "cell_type": "code",
   "execution_count": null,
   "metadata": {},
   "outputs": [],
   "source": [
    "prev_process_images = None\n",
    "input_dimensions = 80 * 80\n",
    "image = env.reset()\n",
    "while True:\n",
    "    env.render()\n",
    "    process_images, prev_process_images = pre_process_images(image, prev_process_images, input_dimensions)\n",
    "    hidden_layers, probability = feed_forward_nets(model,process_images)\n",
    "    action = choose_action(probability)\n",
    "\n",
    "    \"\"\"Action for up or down\"\"\"\n",
    "    image, reward, done, info = env.step(action)\n",
    "    #image = env.reset()\n",
    "    if done:\n",
    "        image=env.reset()\n",
    "        prev_process_images = None"
   ]
  },
  {
   "cell_type": "code",
   "execution_count": null,
   "metadata": {},
   "outputs": [],
   "source": []
  },
  {
   "cell_type": "code",
   "execution_count": null,
   "metadata": {},
   "outputs": [],
   "source": []
  }
 ],
 "metadata": {
  "kernelspec": {
   "display_name": "Python 3",
   "language": "python",
   "name": "python3"
  },
  "language_info": {
   "codemirror_mode": {
    "name": "ipython",
    "version": 3
   },
   "file_extension": ".py",
   "mimetype": "text/x-python",
   "name": "python",
   "nbconvert_exporter": "python",
   "pygments_lexer": "ipython3",
   "version": "3.6.4"
  }
 },
 "nbformat": 4,
 "nbformat_minor": 2
}
